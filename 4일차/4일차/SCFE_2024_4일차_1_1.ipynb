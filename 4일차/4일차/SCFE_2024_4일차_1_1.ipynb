{
  "nbformat": 4,
  "nbformat_minor": 0,
  "metadata": {
    "colab": {
      "provenance": []
    },
    "kernelspec": {
      "name": "python3",
      "display_name": "Python 3"
    },
    "language_info": {
      "name": "python"
    }
  },
  "cells": [
    {
      "cell_type": "markdown",
      "source": [
        "#1. 군집 분석\n",
        "- pykrx로 20241219의 종목에 대한 market fundamental 데이터를 수집하여서 군집 분석하세요.\n",
        "- 군집 중 투자할만한 군집을 발견/해석해보세요.\n",
        "- 해당 군집 중 EPS 기준 상위 20개 종목을 발견해보세요."
      ],
      "metadata": {
        "id": "30N7ZR7-TQ6K"
      }
    },
    {
      "cell_type": "code",
      "source": [
        "!pip install pykrx"
      ],
      "metadata": {
        "id": "qSOniwyNVgKE"
      },
      "execution_count": null,
      "outputs": []
    },
    {
      "cell_type": "markdown",
      "source": [
        "#2. 포트폴리오 구성\n",
        "- 앞에서 선택한 군집의 종목 20개들로 포트폴리오를 구성해보세요.\n",
        "- 주가는 2023년에 대해 다운로드 하며, yahoo finance를 사용하세요\n",
        "- risk free rate은 0.03을 사용해보세요\n",
        "- 포트폴리오에서 모든 종목 비중을 최대 10%로 지정하세요 (kospi도 적용)\n"
      ],
      "metadata": {
        "id": "5GpOyvp2TSQQ"
      }
    },
    {
      "cell_type": "code",
      "source": [
        "weights"
      ],
      "metadata": {
        "colab": {
          "base_uri": "https://localhost:8080/"
        },
        "id": "YiIIHMues1UD",
        "outputId": "90e3bceb-3e55-48c2-dfc4-fb422bac3960"
      },
      "execution_count": null,
      "outputs": [
        {
          "output_type": "execute_result",
          "data": {
            "text/plain": [
              "OrderedDict([('부국증권', 0.1),\n",
              "             ('현대해상', 0.0),\n",
              "             ('롯데정밀화학', 0.04067),\n",
              "             ('풍산홀딩스', 0.03645),\n",
              "             ('아이에스동서', 0.02027),\n",
              "             ('에스원', 0.04144),\n",
              "             ('삼성증권', 0.1),\n",
              "             ('서울가스', 0.00646),\n",
              "             ('현대엘리베이', 0.03205),\n",
              "             ('롯데쇼핑', 0.0),\n",
              "             ('KPX케미칼', 0.03537),\n",
              "             ('삼성카드', 0.1),\n",
              "             ('광주신세계', 0.08793),\n",
              "             ('현대홈쇼핑', 0.05841),\n",
              "             ('HL홀딩스', 0.05541),\n",
              "             ('GS', 0.08469),\n",
              "             ('하나금융지주', 0.02931),\n",
              "             ('넥스틸', 0.02253),\n",
              "             ('LX하우시스', 0.02595),\n",
              "             ('경동도시가스', 0.02306),\n",
              "             ('KOSPI', 0.1)])"
            ]
          },
          "metadata": {},
          "execution_count": 22
        }
      ]
    }
  ]
}