{
  "nbformat": 4,
  "nbformat_minor": 0,
  "metadata": {
    "colab": {
      "provenance": []
    },
    "kernelspec": {
      "name": "python3",
      "display_name": "Python 3"
    },
    "language_info": {
      "name": "python"
    }
  },
  "cells": [
    {
      "cell_type": "markdown",
      "source": [
        "##1. Tensor Flow로 분류"
      ],
      "metadata": {
        "id": "9wJQYsH_PRWU"
      }
    },
    {
      "cell_type": "markdown",
      "source": [
        "1. 필요 패키지 불러오기"
      ],
      "metadata": {
        "id": "DuMgtp97szhM"
      }
    },
    {
      "cell_type": "code",
      "execution_count": null,
      "metadata": {
        "id": "nXUJKIwsne0G"
      },
      "outputs": [],
      "source": [
        "import tensorflow as tf\n",
        "import pandas as pd\n",
        "import numpy as np\n",
        "\n",
        "from sklearn.model_selection import train_test_split\n",
        "from sklearn.preprocessing import MinMaxScaler\n",
        "from tensorflow.keras.utils import to_categorical"
      ]
    },
    {
      "cell_type": "markdown",
      "source": [
        "2. 데이터 전처리   ***"
      ],
      "metadata": {
        "id": "u3imLQjys2Mr"
      }
    },
    {
      "cell_type": "code",
      "source": [
        "df = pd.read_csv(\"creditset2.csv\")\n",
        "\n",
        "#데이터를 둘(각각 train, test)로 나눠주는 함수, test size 비율만큼 test에 해당하는 데이터의 크기\n",
        "train_test_split([1,2,3,4], test_size=0.2)\n",
        "\n",
        "#함수에 들어간 입력의 개수 X 2 만큼의 결과가 순서대로 나옴, train, test 각각\n",
        "train_test_split(df, test_size=0.2)\n",
        "\n",
        "#각각 다른 이름으로 할당시킬 수 있음\n",
        "train_df, test_df = train_test_split(df, test_size=0.2)\n",
        "\n",
        "\n",
        "#데이터프레임인 df에서 컬럼 선택: df[ [ 컬럼이름을 여기에  ]    ]\n",
        "x = df[['income', 'age', 'loan']] #해당 컬럼 3개를 갖는 데이터프레임\n",
        "y = df[['default10yr']] #해당 컬럼을 갖는 데이터프레임\n",
        "\n",
        "#One hot encoding\n",
        "y = to_categorical(df[['default10yr']]) #One hot encoding 시키기\n",
        "\n",
        "#scaling\n",
        "x = MinMaxScaler().fit_transform(x) #스케일링 시키기"
      ],
      "metadata": {
        "id": "C0XOGbums42z"
      },
      "execution_count": null,
      "outputs": []
    },
    {
      "cell_type": "markdown",
      "source": [
        "3. 데이터 읽고 전처리까지 (분류모형의 경우)"
      ],
      "metadata": {
        "id": "3wlKoAams7cC"
      }
    },
    {
      "cell_type": "code",
      "source": [
        "df = pd.read_csv(\"creditset2.csv\")  # 1) 데이터 읽기\n",
        "x = df[['income', 'age', 'loan']]   # 2) 변수 선택, x\n",
        "y = to_categorical(df[['default10yr']]) #3) 변수 선택, target 범주형의 원핫인코딩\n",
        "train_x, test_x, train_y, test_y = train_test_split(x,y, test_size=0.2) #4) 파티셔닝\n",
        "train_x = MinMaxScaler().fit_transform(train_x) #5)파티셔닝된 것 중 X의 스케일링\n",
        "test_x = MinMaxScaler().fit_transform(test_x) #5)파티셔닝된 것 중 X의 스케일링"
      ],
      "metadata": {
        "id": "VE8zWHmkrzaQ"
      },
      "execution_count": null,
      "outputs": []
    },
    {
      "cell_type": "markdown",
      "source": [
        "4. 모델링 및 적합  ***"
      ],
      "metadata": {
        "id": "2bSSbVzDtBC6"
      }
    },
    {
      "cell_type": "code",
      "source": [
        "#DNN\n",
        "from tensorflow.keras.models import Sequential\n",
        "from tensorflow.keras.layers import Dense\n",
        "\n",
        "#Hidden layer 구성하기\n",
        "model = Sequential()\n",
        "model.add(Dense(3, activation = 'relu', input_shape = (3, ))) #첫번째 은닉층, 3개입력->2개 은닉층 노드, Desnse: 일반적인 은닉층, Fully connected hidden layer\n",
        "model.add(Dense(6, activation = 'relu')) #두번째 은닉층, 2개입력->6개 은닉층 노드, Desnse: 일반적인 은닉층, Fully connected hidden layer\n",
        "model.add(Dense(2, activation = 'softmax')) #Desnse: 마지막 은닉층, Fully connected hidden layer, 분류의 경우 softmax\n",
        "\n",
        "#모형 컴파일\n",
        "model.compile(optimizer = 'adam', loss = 'categorical_crossentropy', metrics = ['acc']) #분류모형은 이대로 사용하기\n",
        "model.summary()\n",
        "\n",
        "#모형 학습 및 가중치 확인\n",
        "model.fit(train_x,train_y,epochs = 20)  #epoch수를 조정\n"
      ],
      "metadata": {
        "id": "IRxrpP7oqCJY"
      },
      "execution_count": null,
      "outputs": []
    },
    {
      "cell_type": "markdown",
      "source": [
        "5. 결과확인 및 평가"
      ],
      "metadata": {
        "id": "_ymC7G6WtDPr"
      }
    },
    {
      "cell_type": "code",
      "source": [
        "#np.argmax\n",
        "print( np.argmax( [1,10,100]) )\n",
        "\n",
        "a = np.arange(6).reshape(2,3) + 10\n",
        "print(a)\n",
        "print(np.argmax(a, axis=0))#열에서 최대값, index\n",
        "print(np.argmax(a, axis=1))#행에서 최대값, index 반환"
      ],
      "metadata": {
        "colab": {
          "base_uri": "https://localhost:8080/"
        },
        "id": "xsSgobj3wQWJ",
        "outputId": "c513dbcf-4413-4f79-e420-f287eb1c1810"
      },
      "execution_count": null,
      "outputs": [
        {
          "output_type": "stream",
          "name": "stdout",
          "text": [
            "2\n",
            "[[10 11 12]\n",
            " [13 14 15]]\n",
            "[1 1 1]\n",
            "[2 2]\n"
          ]
        }
      ]
    },
    {
      "cell_type": "code",
      "source": [
        "# ***\n",
        "predicted = model.predict( test_x)\n",
        "predicted2 = np.argmax(predicted, axis=-1)\n",
        "actual = np.argmax(test_y, axis=-1)\n",
        "\n",
        "print(\"Accuracy:\", np.mean(predicted2 == actual))\n"
      ],
      "metadata": {
        "colab": {
          "base_uri": "https://localhost:8080/"
        },
        "id": "ZbLTkdQuss6N",
        "outputId": "ad28ad69-7dc7-4e59-ef09-7b311b3b8949"
      },
      "execution_count": null,
      "outputs": [
        {
          "output_type": "stream",
          "name": "stdout",
          "text": [
            "Accuracy: 0.9275\n"
          ]
        }
      ]
    },
    {
      "cell_type": "code",
      "source": [
        "model.summary()\n",
        "print( model.get_weights() ) #가중치 확인\n"
      ],
      "metadata": {
        "colab": {
          "base_uri": "https://localhost:8080/"
        },
        "id": "VeV8tqNaxa7e",
        "outputId": "bf54db02-06cf-4fa4-9e3a-a864a867f912"
      },
      "execution_count": null,
      "outputs": [
        {
          "output_type": "stream",
          "name": "stdout",
          "text": [
            "Model: \"sequential\"\n",
            "_________________________________________________________________\n",
            " Layer (type)                Output Shape              Param #   \n",
            "=================================================================\n",
            " dense (Dense)               (None, 3)                 12        \n",
            "                                                                 \n",
            " dense_1 (Dense)             (None, 6)                 24        \n",
            "                                                                 \n",
            " dense_2 (Dense)             (None, 2)                 14        \n",
            "                                                                 \n",
            "=================================================================\n",
            "Total params: 50\n",
            "Trainable params: 50\n",
            "Non-trainable params: 0\n",
            "_________________________________________________________________\n",
            "[array([[-0.5092614 ,  0.7060958 , -0.02716669],\n",
            "       [-1.0899689 ,  0.718363  , -0.27758577],\n",
            "       [ 1.3789079 , -0.3581793 ,  0.8539818 ]], dtype=float32), array([ 0.42849433, -0.00488074, -0.01490956], dtype=float32), array([[ 1.5223528 , -0.7409276 , -0.34967428, -0.39777082, -0.46992132,\n",
            "        -0.35032475],\n",
            "       [ 0.28009474,  0.35985413, -0.67072105,  0.6900417 ,  0.5328655 ,\n",
            "         0.41361123],\n",
            "       [ 0.7340037 ,  0.3075385 , -0.03336358, -0.81335044, -0.97646993,\n",
            "         0.16043879]], dtype=float32), array([-0.10418782,  0.30092317,  0.        ,  0.4248486 ,  0.51012355,\n",
            "       -0.2314182 ], dtype=float32), array([[-0.93327284,  0.14565103],\n",
            "       [ 1.1546035 , -0.9476837 ],\n",
            "       [-0.8427074 ,  0.542062  ],\n",
            "       [ 0.77027583, -1.6736339 ],\n",
            "       [ 1.1994549 , -1.2423182 ],\n",
            "       [ 0.10055912,  0.5836816 ]], dtype=float32), array([ 0.17942008, -0.17942008], dtype=float32)]\n"
          ]
        }
      ]
    },
    {
      "cell_type": "code",
      "source": [
        "#분류 보고서 ***\n",
        "from sklearn.metrics import classification_report, confusion_matrix\n",
        "print('\\n', classification_report(actual, predicted2))"
      ],
      "metadata": {
        "colab": {
          "base_uri": "https://localhost:8080/"
        },
        "id": "9iokgHpuvZ0N",
        "outputId": "be32b60a-8a23-46bc-ea30-243dc9c892f8"
      },
      "execution_count": null,
      "outputs": [
        {
          "output_type": "stream",
          "name": "stdout",
          "text": [
            "\n",
            "               precision    recall  f1-score   support\n",
            "\n",
            "           0       0.94      0.97      0.96       336\n",
            "           1       0.83      0.69      0.75        64\n",
            "\n",
            "    accuracy                           0.93       400\n",
            "   macro avg       0.89      0.83      0.85       400\n",
            "weighted avg       0.92      0.93      0.92       400\n",
            "\n"
          ]
        }
      ]
    },
    {
      "cell_type": "markdown",
      "source": [
        "##2. MNIST 데이터셋에 대한 분류 비교"
      ],
      "metadata": {
        "id": "fJWVExbeIeBl"
      }
    },
    {
      "cell_type": "code",
      "source": [
        "import tensorflow as tf\n",
        "import numpy as np"
      ],
      "metadata": {
        "id": "9OB1U-CsIdS9"
      },
      "execution_count": null,
      "outputs": []
    },
    {
      "cell_type": "code",
      "source": [
        "(x_train, y_train), (x_test, y_test) = tf.keras.datasets.mnist.load_data()"
      ],
      "metadata": {
        "id": "RMzVoGhdIuOB",
        "colab": {
          "base_uri": "https://localhost:8080/"
        },
        "outputId": "fbe6eab7-aa8e-46df-88f7-e541e40656b9"
      },
      "execution_count": null,
      "outputs": [
        {
          "output_type": "stream",
          "name": "stdout",
          "text": [
            "Downloading data from https://storage.googleapis.com/tensorflow/tf-keras-datasets/mnist.npz\n",
            "11490434/11490434 [==============================] - 0s 0us/step\n"
          ]
        }
      ]
    },
    {
      "cell_type": "code",
      "source": [
        "import matplotlib.pyplot as plt\n",
        "plt.rcParams['figure.figsize'] = (5, 5)\n",
        "plt.imshow(x_train[0])\n",
        "plt.show()"
      ],
      "metadata": {
        "colab": {
          "base_uri": "https://localhost:8080/",
          "height": 445
        },
        "id": "S3eaQcRiIuQd",
        "outputId": "50c361f6-d1f1-4740-bef4-8380227800aa"
      },
      "execution_count": null,
      "outputs": [
        {
          "output_type": "display_data",
          "data": {
            "text/plain": [
              "<Figure size 500x500 with 1 Axes>"
            ],
            "image/png": "[encoded data removed]"
          },
          "metadata": {}
        }
      ]
    },
    {
      "cell_type": "code",
      "source": [
        "x_train.reshape(60000, 28*28).reshape( 60000, 28, 28)"
      ],
      "metadata": {
        "id": "ZJDvcbEqEV5X"
      },
      "execution_count": null,
      "outputs": []
    },
    {
      "cell_type": "code",
      "source": [
        "# reshape and minmax scaling  ***\n",
        "x_train = x_train.reshape((60000, 28 * 28)) / 255.0   #3d->2d, minmax scaling\n",
        "x_test = x_test.reshape((10000, 28 * 28)) / 255.0"
      ],
      "metadata": {
        "id": "EBzOc_hjIuTR"
      },
      "execution_count": null,
      "outputs": []
    },
    {
      "cell_type": "code",
      "source": [
        "y_train =  tf.keras.utils.to_categorical(y_train, 10)\n",
        "y_test =  tf.keras.utils.to_categorical(y_test, 10)"
      ],
      "metadata": {
        "id": "M6DMgKN-O2C4"
      },
      "execution_count": null,
      "outputs": []
    },
    {
      "cell_type": "code",
      "source": [
        "# Sequential model\n",
        "model = tf.keras.models.Sequential()\n",
        "\n",
        "# Stacking layers\n",
        "model.add(tf.keras.layers.Dense(units=128, activation='relu', input_shape=(28*28,)))\n",
        "model.add(tf.keras.layers.Dense(units=64, activation='relu'))\n",
        "model.add(tf.keras.layers.Dense(units=32, activation='relu'))\n",
        "model.add(tf.keras.layers.Dense(units=16, activation='relu'))\n",
        "model.add(tf.keras.layers.Dense(units=10, activation='softmax'))"
      ],
      "metadata": {
        "id": "cZGTtY00I1ck"
      },
      "execution_count": null,
      "outputs": []
    },
    {
      "cell_type": "code",
      "source": [
        "model.summary()"
      ],
      "metadata": {
        "id": "RiaehSUoI1fA"
      },
      "execution_count": null,
      "outputs": []
    },
    {
      "cell_type": "code",
      "source": [
        "model.compile(optimizer='adam', loss='categorical_crossentropy', metrics=['accuracy'])"
      ],
      "metadata": {
        "id": "FMYpLxBKI1j2"
      },
      "execution_count": null,
      "outputs": []
    },
    {
      "cell_type": "code",
      "source": [
        "#model.compile(optimizer=keras.optimizers.Adam(learning_rate=0.01),\n",
        "#              loss=keras.losses.categorical_crossentropy)"
      ],
      "metadata": {
        "id": "ucrz8dZkI_TL"
      },
      "execution_count": null,
      "outputs": []
    },
    {
      "cell_type": "code",
      "source": [
        "model.fit(x_train, y_train,  epochs=5, verbose=1,\n",
        "          validation_split=0.2)\n",
        "# ***"
      ],
      "metadata": {
        "colab": {
          "base_uri": "https://localhost:8080/"
        },
        "id": "6Zvm7ttFI_V5",
        "outputId": "e3089d53-fe48-4576-c7e8-85087154fe01"
      },
      "execution_count": null,
      "outputs": [
        {
          "output_type": "stream",
          "name": "stdout",
          "text": [
            "Epoch 1/5\n",
            "1500/1500 [==============================] - 8s 4ms/step - loss: 0.3190 - accuracy: 0.9035 - val_loss: 0.1386 - val_accuracy: 0.9595\n",
            "Epoch 2/5\n",
            "1500/1500 [==============================] - 6s 4ms/step - loss: 0.1222 - accuracy: 0.9626 - val_loss: 0.1132 - val_accuracy: 0.9649\n",
            "Epoch 3/5\n",
            "1500/1500 [==============================] - 6s 4ms/step - loss: 0.0872 - accuracy: 0.9726 - val_loss: 0.1034 - val_accuracy: 0.9672\n",
            "Epoch 4/5\n",
            "1500/1500 [==============================] - 5s 4ms/step - loss: 0.0656 - accuracy: 0.9791 - val_loss: 0.0929 - val_accuracy: 0.9732\n",
            "Epoch 5/5\n",
            "1500/1500 [==============================] - 6s 4ms/step - loss: 0.0547 - accuracy: 0.9824 - val_loss: 0.1068 - val_accuracy: 0.9695\n"
          ]
        },
        {
          "output_type": "execute_result",
          "data": {
            "text/plain": [
              "<keras.src.callbacks.History at 0x7b728c528dc0>"
            ]
          },
          "metadata": {},
          "execution_count": 19
        }
      ]
    },
    {
      "cell_type": "code",
      "source": [
        "model.evaluate(x_test, y_test)"
      ],
      "metadata": {
        "colab": {
          "base_uri": "https://localhost:8080/"
        },
        "id": "OhuZN-DJI_YT",
        "outputId": "95424cbc-0b66-48e0-9d6d-3bd107396dde"
      },
      "execution_count": null,
      "outputs": [
        {
          "output_type": "stream",
          "name": "stdout",
          "text": [
            "313/313 [==============================] - 1s 2ms/step - loss: 0.0941 - accuracy: 0.9720\n"
          ]
        },
        {
          "output_type": "execute_result",
          "data": {
            "text/plain": [
              "[0.09406383335590363, 0.972000002861023]"
            ]
          },
          "metadata": {},
          "execution_count": 15
        }
      ]
    },
    {
      "cell_type": "code",
      "source": [
        "preds = model.predict(x_test, batch_size=128)\n",
        "preds[0]\n",
        "np.argmax(preds[0])\n",
        "plt.imshow(x_test[0].reshape(28, 28))\n",
        "plt.show()"
      ],
      "metadata": {
        "colab": {
          "base_uri": "https://localhost:8080/",
          "height": 463
        },
        "id": "acV4KHk7I_a4",
        "outputId": "07745f6d-2310-4228-89e0-b7c1e6cc370b"
      },
      "execution_count": null,
      "outputs": [
        {
          "output_type": "stream",
          "name": "stdout",
          "text": [
            "79/79 [==============================] - 0s 2ms/step\n"
          ]
        },
        {
          "output_type": "display_data",
          "data": {
            "text/plain": [
              "<Figure size 500x500 with 1 Axes>"
            ],
            "image/png": "[encoded data removed]"
          },
          "metadata": {}
        }
      ]
    },
    {
      "cell_type": "code",
      "source": [
        "# Save the entire model to a HDF5 file.   ***\n",
        "model.save('mnist_dnn_model.h5')\n",
        "new_model = tf.keras.models.load_model('mnist_dnn_model.h5')\n",
        "new_model.summary()"
      ],
      "metadata": {
        "colab": {
          "base_uri": "https://localhost:8080/"
        },
        "id": "j58CBfSnJSkH",
        "outputId": "2e258a54-ea74-4707-9914-3721036ed12d"
      },
      "execution_count": null,
      "outputs": [
        {
          "output_type": "stream",
          "name": "stdout",
          "text": [
            "Model: \"sequential_3\"\n",
            "_________________________________________________________________\n",
            " Layer (type)                Output Shape              Param #   \n",
            "=================================================================\n",
            " dense_6 (Dense)             (None, 128)               100480    \n",
            "                                                                 \n",
            " dense_7 (Dense)             (None, 10)                1290      \n",
            "                                                                 \n",
            "=================================================================\n",
            "Total params: 101770 (397.54 KB)\n",
            "Trainable params: 101770 (397.54 KB)\n",
            "Non-trainable params: 0 (0.00 Byte)\n",
            "_________________________________________________________________\n"
          ]
        },
        {
          "output_type": "stream",
          "name": "stderr",
          "text": [
            "/usr/local/lib/python3.10/dist-packages/keras/src/engine/training.py:3103: UserWarning: You are saving your model as an HDF5 file via `model.save()`. This file format is considered legacy. We recommend using instead the native Keras format, e.g. `model.save('my_model.keras')`.\n",
            "  saving_api.save_model(\n"
          ]
        }
      ]
    },
    {
      "cell_type": "markdown",
      "source": [
        "## 3. data.csv에 대해 분류 적용"
      ],
      "metadata": {
        "id": "BM9kCsrSw9-q"
      }
    },
    {
      "cell_type": "code",
      "execution_count": null,
      "metadata": {
        "colab": {
          "base_uri": "https://localhost:8080/"
        },
        "outputId": "2dcae094-1533-4a48-a76d-732f8aa778e9",
        "id": "mE_00pNeFjtR"
      },
      "outputs": [
        {
          "output_type": "stream",
          "name": "stdout",
          "text": [
            "Index(['X20', 'X86', 'X87', 'X88', 'X113', 'X115', 'X116', 'X117', 'X119',\n",
            "       'X120', 'X156', 'X221', 'X222', 'X223', 'X248', 'X250', 'X251', 'X252',\n",
            "       'X254', 'X255', 'X291', 'X359', 'X360', 'X361', 'X386', 'X388', 'X389',\n",
            "       'X390', 'X392', 'X393', 'X429', 'X493', 'X494', 'X495', 'X520', 'X522',\n",
            "       'X523', 'X524', 'X526', 'X527', 'X570', 'X571', 'X572', 'X573', 'X574',\n",
            "       'X575', 'X576', 'X577', 'Pass.Fail'],\n",
            "      dtype='object')\n"
          ]
        }
      ],
      "source": [
        "import pandas as pd\n",
        "data = pd.read_csv(\"data.csv\")\n",
        "print( data.columns )\n",
        "\n",
        "from sklearn.preprocessing import MinMaxScaler\n",
        "from sklearn.model_selection import train_test_split\n",
        "\n",
        "X_train, X_test, y_train, y_test = train_test_split( data.drop('Pass.Fail', axis=1), data[\"Pass.Fail\"], test_size=0.2)\n",
        "scaler = MinMaxScaler()\n",
        "X_train = pd.DataFrame( scaler.fit_transform( X_train), columns = X_train.columns )\n",
        "X_test = pd.DataFrame( scaler.fit_transform( X_test), columns = X_test.columns )"
      ]
    },
    {
      "cell_type": "code",
      "source": [
        "X_train"
      ],
      "metadata": {
        "colab": {
          "base_uri": "https://localhost:8080/",
          "height": 443
        },
        "id": "cPWYsH_nHAki",
        "outputId": "b2b7ab00-6493-49dd-fa3e-eb920bcb9d30"
      },
      "execution_count": null,
      "outputs": [
        {
          "output_type": "execute_result",
          "data": {
            "text/plain": [
              "           X20       X86       X87       X88      X113      X115      X116  \\\n",
              "0     0.826818  0.625240  0.989478  0.288321  0.672091  0.420713  0.979492   \n",
              "1     0.825722  0.708946  0.973468  0.379181  0.734744  0.342789  0.992188   \n",
              "2     0.819510  0.746006  0.947392  0.220264  0.772986  0.648518  0.973633   \n",
              "3     0.862258  0.417572  0.965691  0.381734  0.868999  0.644721  0.984375   \n",
              "4     0.903544  0.524281  0.973010  0.362590  0.708706  0.739154  0.970703   \n",
              "...        ...       ...       ...       ...       ...       ...       ...   \n",
              "1248  0.886372  0.413738  0.986276  0.291190  0.675346  0.580205  0.983398   \n",
              "1249  0.857874  0.404473  0.897530  0.420965  0.768104  0.655213  0.982422   \n",
              "1250  0.886372  0.507029  0.979872  0.449844  0.663954  0.731057  0.708008   \n",
              "1251  0.770552  0.311182  0.985361  0.442124  0.706265  0.777562  0.984375   \n",
              "1252  0.812569  0.277955  0.981244  0.351065  0.938975  0.481565  0.976562   \n",
              "\n",
              "          X117      X119      X120  ...      X526      X527      X570  \\\n",
              "0     0.023681  0.900424  0.484203  ...  0.178945  0.297583  0.774810   \n",
              "1     0.017584  0.967514  0.506072  ...  0.046059  0.514730  0.805894   \n",
              "2     0.018612  0.859463  0.571596  ...  0.338246  0.336287  0.805150   \n",
              "3     0.026223  0.982345  0.542214  ...  0.022631  0.489180  0.795776   \n",
              "4     0.022874  0.890537  0.468511  ...  0.156052  0.121584  0.780172   \n",
              "...        ...       ...       ...  ...       ...       ...       ...   \n",
              "1248  0.023181  0.853107  0.507992  ...  0.145123  0.165232  0.791553   \n",
              "1249  0.024139  0.847458  0.559493  ...  0.254917  0.272872  0.798012   \n",
              "1250  0.016036  0.956215  0.581946  ...  0.041889  0.337322  0.785787   \n",
              "1251  0.021557  0.891949  0.456826  ...  0.239456  0.369298  0.788798   \n",
              "1252  0.012847  0.968220  0.484955  ...  0.031345  0.442975  0.799695   \n",
              "\n",
              "          X571      X572      X573      X574      X575      X576      X577  \n",
              "0     0.769397  0.008758  0.107840  0.009734  0.120068  0.008406  0.087857  \n",
              "1     0.811971  0.005144  0.112864  0.006401  0.119879  0.004773  0.088425  \n",
              "2     0.244643  0.007782  0.023427  0.008857  0.024279  0.007248  0.039863  \n",
              "3     0.767578  0.013525  0.095728  0.013187  0.129552  0.012723  0.076093  \n",
              "4     0.597851  0.005033  0.129953  0.006230  0.131829  0.004828  0.133392  \n",
              "...        ...       ...       ...       ...       ...       ...       ...  \n",
              "1248  0.423634  0.007760  0.085399  0.008741  0.116844  0.007330  0.106377  \n",
              "1249  0.819133  0.014611  0.082817  0.015140  0.114378  0.013721  0.059072  \n",
              "1250  0.602171  0.010088  0.094413  0.009501  0.103376  0.009574  0.092537  \n",
              "1251  0.720230  0.012172  0.132629  0.011251  0.149848  0.011517  0.118598  \n",
              "1252  0.774058  0.005476  0.136573  0.005960  0.138847  0.005123  0.115687  \n",
              "\n",
              "[1253 rows x 48 columns]"
            ],
            "text/html": [
              "\n",
              "  <div id=\"df-456beb68-5463-468e-a819-8a61ba0c3f2d\" class=\"colab-df-container\">\n",
              "    <div>\n",
              "<style scoped>\n",
              "    .dataframe tbody tr th:only-of-type {\n",
              "        vertical-align: middle;\n",
              "    }\n",
              "\n",
              "    .dataframe tbody tr th {\n",
              "        vertical-align: top;\n",
              "    }\n",
              "\n",
              "    .dataframe thead th {\n",
              "        text-align: right;\n",
              "    }\n",
              "</style>\n",
              "<table border=\"1\" class=\"dataframe\">\n",
              "  <thead>\n",
              "    <tr style=\"text-align: right;\">\n",
              "      <th></th>\n",
              "      <th>X20</th>\n",
              "      <th>X86</th>\n",
              "      <th>X87</th>\n",
              "      <th>X88</th>\n",
              "      <th>X113</th>\n",
              "      <th>X115</th>\n",
              "      <th>X116</th>\n",
              "      <th>X117</th>\n",
              "      <th>X119</th>\n",
              "      <th>X120</th>\n",
              "      <th>...</th>\n",
              "      <th>X526</th>\n",
              "      <th>X527</th>\n",
              "      <th>X570</th>\n",
              "      <th>X571</th>\n",
              "      <th>X572</th>\n",
              "      <th>X573</th>\n",
              "      <th>X574</th>\n",
              "      <th>X575</th>\n",
              "      <th>X576</th>\n",
              "      <th>X577</th>\n",
              "    </tr>\n",
              "  </thead>\n",
              "  <tbody>\n",
              "    <tr>\n",
              "      <th>0</th>\n",
              "      <td>0.826818</td>\n",
              "      <td>0.625240</td>\n",
              "      <td>0.989478</td>\n",
              "      <td>0.288321</td>\n",
              "      <td>0.672091</td>\n",
              "      <td>0.420713</td>\n",
              "      <td>0.979492</td>\n",
              "      <td>0.023681</td>\n",
              "      <td>0.900424</td>\n",
              "      <td>0.484203</td>\n",
              "      <td>...</td>\n",
              "      <td>0.178945</td>\n",
              "      <td>0.297583</td>\n",
              "      <td>0.774810</td>\n",
              "      <td>0.769397</td>\n",
              "      <td>0.008758</td>\n",
              "      <td>0.107840</td>\n",
              "      <td>0.009734</td>\n",
              "      <td>0.120068</td>\n",
              "      <td>0.008406</td>\n",
              "      <td>0.087857</td>\n",
              "    </tr>\n",
              "    <tr>\n",
              "      <th>1</th>\n",
              "      <td>0.825722</td>\n",
              "      <td>0.708946</td>\n",
              "      <td>0.973468</td>\n",
              "      <td>0.379181</td>\n",
              "      <td>0.734744</td>\n",
              "      <td>0.342789</td>\n",
              "      <td>0.992188</td>\n",
              "      <td>0.017584</td>\n",
              "      <td>0.967514</td>\n",
              "      <td>0.506072</td>\n",
              "      <td>...</td>\n",
              "      <td>0.046059</td>\n",
              "      <td>0.514730</td>\n",
              "      <td>0.805894</td>\n",
              "      <td>0.811971</td>\n",
              "      <td>0.005144</td>\n",
              "      <td>0.112864</td>\n",
              "      <td>0.006401</td>\n",
              "      <td>0.119879</td>\n",
              "      <td>0.004773</td>\n",
              "      <td>0.088425</td>\n",
              "    </tr>\n",
              "    <tr>\n",
              "      <th>2</th>\n",
              "      <td>0.819510</td>\n",
              "      <td>0.746006</td>\n",
              "      <td>0.947392</td>\n",
              "      <td>0.220264</td>\n",
              "      <td>0.772986</td>\n",
              "      <td>0.648518</td>\n",
              "      <td>0.973633</td>\n",
              "      <td>0.018612</td>\n",
              "      <td>0.859463</td>\n",
              "      <td>0.571596</td>\n",
              "      <td>...</td>\n",
              "      <td>0.338246</td>\n",
              "      <td>0.336287</td>\n",
              "      <td>0.805150</td>\n",
              "      <td>0.244643</td>\n",
              "      <td>0.007782</td>\n",
              "      <td>0.023427</td>\n",
              "      <td>0.008857</td>\n",
              "      <td>0.024279</td>\n",
              "      <td>0.007248</td>\n",
              "      <td>0.039863</td>\n",
              "    </tr>\n",
              "    <tr>\n",
              "      <th>3</th>\n",
              "      <td>0.862258</td>\n",
              "      <td>0.417572</td>\n",
              "      <td>0.965691</td>\n",
              "      <td>0.381734</td>\n",
              "      <td>0.868999</td>\n",
              "      <td>0.644721</td>\n",
              "      <td>0.984375</td>\n",
              "      <td>0.026223</td>\n",
              "      <td>0.982345</td>\n",
              "      <td>0.542214</td>\n",
              "      <td>...</td>\n",
              "      <td>0.022631</td>\n",
              "      <td>0.489180</td>\n",
              "      <td>0.795776</td>\n",
              "      <td>0.767578</td>\n",
              "      <td>0.013525</td>\n",
              "      <td>0.095728</td>\n",
              "      <td>0.013187</td>\n",
              "      <td>0.129552</td>\n",
              "      <td>0.012723</td>\n",
              "      <td>0.076093</td>\n",
              "    </tr>\n",
              "    <tr>\n",
              "      <th>4</th>\n",
              "      <td>0.903544</td>\n",
              "      <td>0.524281</td>\n",
              "      <td>0.973010</td>\n",
              "      <td>0.362590</td>\n",
              "      <td>0.708706</td>\n",
              "      <td>0.739154</td>\n",
              "      <td>0.970703</td>\n",
              "      <td>0.022874</td>\n",
              "      <td>0.890537</td>\n",
              "      <td>0.468511</td>\n",
              "      <td>...</td>\n",
              "      <td>0.156052</td>\n",
              "      <td>0.121584</td>\n",
              "      <td>0.780172</td>\n",
              "      <td>0.597851</td>\n",
              "      <td>0.005033</td>\n",
              "      <td>0.129953</td>\n",
              "      <td>0.006230</td>\n",
              "      <td>0.131829</td>\n",
              "      <td>0.004828</td>\n",
              "      <td>0.133392</td>\n",
              "    </tr>\n",
              "    <tr>\n",
              "      <th>...</th>\n",
              "      <td>...</td>\n",
              "      <td>...</td>\n",
              "      <td>...</td>\n",
              "      <td>...</td>\n",
              "      <td>...</td>\n",
              "      <td>...</td>\n",
              "      <td>...</td>\n",
              "      <td>...</td>\n",
              "      <td>...</td>\n",
              "      <td>...</td>\n",
              "      <td>...</td>\n",
              "      <td>...</td>\n",
              "      <td>...</td>\n",
              "      <td>...</td>\n",
              "      <td>...</td>\n",
              "      <td>...</td>\n",
              "      <td>...</td>\n",
              "      <td>...</td>\n",
              "      <td>...</td>\n",
              "      <td>...</td>\n",
              "      <td>...</td>\n",
              "    </tr>\n",
              "    <tr>\n",
              "      <th>1248</th>\n",
              "      <td>0.886372</td>\n",
              "      <td>0.413738</td>\n",
              "      <td>0.986276</td>\n",
              "      <td>0.291190</td>\n",
              "      <td>0.675346</td>\n",
              "      <td>0.580205</td>\n",
              "      <td>0.983398</td>\n",
              "      <td>0.023181</td>\n",
              "      <td>0.853107</td>\n",
              "      <td>0.507992</td>\n",
              "      <td>...</td>\n",
              "      <td>0.145123</td>\n",
              "      <td>0.165232</td>\n",
              "      <td>0.791553</td>\n",
              "      <td>0.423634</td>\n",
              "      <td>0.007760</td>\n",
              "      <td>0.085399</td>\n",
              "      <td>0.008741</td>\n",
              "      <td>0.116844</td>\n",
              "      <td>0.007330</td>\n",
              "      <td>0.106377</td>\n",
              "    </tr>\n",
              "    <tr>\n",
              "      <th>1249</th>\n",
              "      <td>0.857874</td>\n",
              "      <td>0.404473</td>\n",
              "      <td>0.897530</td>\n",
              "      <td>0.420965</td>\n",
              "      <td>0.768104</td>\n",
              "      <td>0.655213</td>\n",
              "      <td>0.982422</td>\n",
              "      <td>0.024139</td>\n",
              "      <td>0.847458</td>\n",
              "      <td>0.559493</td>\n",
              "      <td>...</td>\n",
              "      <td>0.254917</td>\n",
              "      <td>0.272872</td>\n",
              "      <td>0.798012</td>\n",
              "      <td>0.819133</td>\n",
              "      <td>0.014611</td>\n",
              "      <td>0.082817</td>\n",
              "      <td>0.015140</td>\n",
              "      <td>0.114378</td>\n",
              "      <td>0.013721</td>\n",
              "      <td>0.059072</td>\n",
              "    </tr>\n",
              "    <tr>\n",
              "      <th>1250</th>\n",
              "      <td>0.886372</td>\n",
              "      <td>0.507029</td>\n",
              "      <td>0.979872</td>\n",
              "      <td>0.449844</td>\n",
              "      <td>0.663954</td>\n",
              "      <td>0.731057</td>\n",
              "      <td>0.708008</td>\n",
              "      <td>0.016036</td>\n",
              "      <td>0.956215</td>\n",
              "      <td>0.581946</td>\n",
              "      <td>...</td>\n",
              "      <td>0.041889</td>\n",
              "      <td>0.337322</td>\n",
              "      <td>0.785787</td>\n",
              "      <td>0.602171</td>\n",
              "      <td>0.010088</td>\n",
              "      <td>0.094413</td>\n",
              "      <td>0.009501</td>\n",
              "      <td>0.103376</td>\n",
              "      <td>0.009574</td>\n",
              "      <td>0.092537</td>\n",
              "    </tr>\n",
              "    <tr>\n",
              "      <th>1251</th>\n",
              "      <td>0.770552</td>\n",
              "      <td>0.311182</td>\n",
              "      <td>0.985361</td>\n",
              "      <td>0.442124</td>\n",
              "      <td>0.706265</td>\n",
              "      <td>0.777562</td>\n",
              "      <td>0.984375</td>\n",
              "      <td>0.021557</td>\n",
              "      <td>0.891949</td>\n",
              "      <td>0.456826</td>\n",
              "      <td>...</td>\n",
              "      <td>0.239456</td>\n",
              "      <td>0.369298</td>\n",
              "      <td>0.788798</td>\n",
              "      <td>0.720230</td>\n",
              "      <td>0.012172</td>\n",
              "      <td>0.132629</td>\n",
              "      <td>0.011251</td>\n",
              "      <td>0.149848</td>\n",
              "      <td>0.011517</td>\n",
              "      <td>0.118598</td>\n",
              "    </tr>\n",
              "    <tr>\n",
              "      <th>1252</th>\n",
              "      <td>0.812569</td>\n",
              "      <td>0.277955</td>\n",
              "      <td>0.981244</td>\n",
              "      <td>0.351065</td>\n",
              "      <td>0.938975</td>\n",
              "      <td>0.481565</td>\n",
              "      <td>0.976562</td>\n",
              "      <td>0.012847</td>\n",
              "      <td>0.968220</td>\n",
              "      <td>0.484955</td>\n",
              "      <td>...</td>\n",
              "      <td>0.031345</td>\n",
              "      <td>0.442975</td>\n",
              "      <td>0.799695</td>\n",
              "      <td>0.774058</td>\n",
              "      <td>0.005476</td>\n",
              "      <td>0.136573</td>\n",
              "      <td>0.005960</td>\n",
              "      <td>0.138847</td>\n",
              "      <td>0.005123</td>\n",
              "      <td>0.115687</td>\n",
              "    </tr>\n",
              "  </tbody>\n",
              "</table>\n",
              "<p>1253 rows × 48 columns</p>\n",
              "</div>\n",
              "    <div class=\"colab-df-buttons\">\n",
              "\n",
              "  <div class=\"colab-df-container\">\n",
              "    <button class=\"colab-df-convert\" onclick=\"convertToInteractive('df-456beb68-5463-468e-a819-8a61ba0c3f2d')\"\n",
              "            title=\"Convert this dataframe to an interactive table.\"\n",
              "            style=\"display:none;\">\n",
              "\n",
              "  <svg xmlns=\"http://www.w3.org/2000/svg\" height=\"24px\" viewBox=\"0 -960 960 960\">\n",
              "    <path d=\"M120-120v-720h720v720H120Zm60-500h600v-160H180v160Zm220 220h160v-160H400v160Zm0 220h160v-160H400v160ZM180-400h160v-160H180v160Zm440 0h160v-160H620v160ZM180-180h160v-160H180v160Zm440 0h160v-160H620v160Z\"/>\n",
              "  </svg>\n",
              "    </button>\n",
              "\n",
              "  <style>\n",
              "    .colab-df-container {\n",
              "      display:flex;\n",
              "      gap: 12px;\n",
              "    }\n",
              "\n",
              "    .colab-df-convert {\n",
              "      background-color: #E8F0FE;\n",
              "      border: none;\n",
              "      border-radius: 50%;\n",
              "      cursor: pointer;\n",
              "      display: none;\n",
              "      fill: #1967D2;\n",
              "      height: 32px;\n",
              "      padding: 0 0 0 0;\n",
              "      width: 32px;\n",
              "    }\n",
              "\n",
              "    .colab-df-convert:hover {\n",
              "      background-color: #E2EBFA;\n",
              "      box-shadow: 0px 1px 2px rgba(60, 64, 67, 0.3), 0px 1px 3px 1px rgba(60, 64, 67, 0.15);\n",
              "      fill: #174EA6;\n",
              "    }\n",
              "\n",
              "    .colab-df-buttons div {\n",
              "      margin-bottom: 4px;\n",
              "    }\n",
              "\n",
              "    [theme=dark] .colab-df-convert {\n",
              "      background-color: #3B4455;\n",
              "      fill: #D2E3FC;\n",
              "    }\n",
              "\n",
              "    [theme=dark] .colab-df-convert:hover {\n",
              "      background-color: #434B5C;\n",
              "      box-shadow: 0px 1px 3px 1px rgba(0, 0, 0, 0.15);\n",
              "      filter: drop-shadow(0px 1px 2px rgba(0, 0, 0, 0.3));\n",
              "      fill: #FFFFFF;\n",
              "    }\n",
              "  </style>\n",
              "\n",
              "    <script>\n",
              "      const buttonEl =\n",
              "        document.querySelector('#df-456beb68-5463-468e-a819-8a61ba0c3f2d button.colab-df-convert');\n",
              "      buttonEl.style.display =\n",
              "        google.colab.kernel.accessAllowed ? 'block' : 'none';\n",
              "\n",
              "      async function convertToInteractive(key) {\n",
              "        const element = document.querySelector('#df-456beb68-5463-468e-a819-8a61ba0c3f2d');\n",
              "        const dataTable =\n",
              "          await google.colab.kernel.invokeFunction('convertToInteractive',\n",
              "                                                    [key], {});\n",
              "        if (!dataTable) return;\n",
              "\n",
              "        const docLinkHtml = 'Like what you see? Visit the ' +\n",
              "          '<a target=\"_blank\" href=https://colab.research.google.com/notebooks/data_table.ipynb>data table notebook</a>'\n",
              "          + ' to learn more about interactive tables.';\n",
              "        element.innerHTML = '';\n",
              "        dataTable['output_type'] = 'display_data';\n",
              "        await google.colab.output.renderOutput(dataTable, element);\n",
              "        const docLink = document.createElement('div');\n",
              "        docLink.innerHTML = docLinkHtml;\n",
              "        element.appendChild(docLink);\n",
              "      }\n",
              "    </script>\n",
              "  </div>\n",
              "\n",
              "\n",
              "<div id=\"df-562b7c38-a7dd-4dc8-b260-6d73742e03b0\">\n",
              "  <button class=\"colab-df-quickchart\" onclick=\"quickchart('df-562b7c38-a7dd-4dc8-b260-6d73742e03b0')\"\n",
              "            title=\"Suggest charts\"\n",
              "            style=\"display:none;\">\n",
              "\n",
              "<svg xmlns=\"http://www.w3.org/2000/svg\" height=\"24px\"viewBox=\"0 0 24 24\"\n",
              "     width=\"24px\">\n",
              "    <g>\n",
              "        <path d=\"M19 3H5c-1.1 0-2 .9-2 2v14c0 1.1.9 2 2 2h14c1.1 0 2-.9 2-2V5c0-1.1-.9-2-2-2zM9 17H7v-7h2v7zm4 0h-2V7h2v10zm4 0h-2v-4h2v4z\"/>\n",
              "    </g>\n",
              "</svg>\n",
              "  </button>\n",
              "\n",
              "<style>\n",
              "  .colab-df-quickchart {\n",
              "      --bg-color: #E8F0FE;\n",
              "      --fill-color: #1967D2;\n",
              "      --hover-bg-color: #E2EBFA;\n",
              "      --hover-fill-color: #174EA6;\n",
              "      --disabled-fill-color: #AAA;\n",
              "      --disabled-bg-color: #DDD;\n",
              "  }\n",
              "\n",
              "  [theme=dark] .colab-df-quickchart {\n",
              "      --bg-color: #3B4455;\n",
              "      --fill-color: #D2E3FC;\n",
              "      --hover-bg-color: #434B5C;\n",
              "      --hover-fill-color: #FFFFFF;\n",
              "      --disabled-bg-color: #3B4455;\n",
              "      --disabled-fill-color: #666;\n",
              "  }\n",
              "\n",
              "  .colab-df-quickchart {\n",
              "    background-color: var(--bg-color);\n",
              "    border: none;\n",
              "    border-radius: 50%;\n",
              "    cursor: pointer;\n",
              "    display: none;\n",
              "    fill: var(--fill-color);\n",
              "    height: 32px;\n",
              "    padding: 0;\n",
              "    width: 32px;\n",
              "  }\n",
              "\n",
              "  .colab-df-quickchart:hover {\n",
              "    background-color: var(--hover-bg-color);\n",
              "    box-shadow: 0 1px 2px rgba(60, 64, 67, 0.3), 0 1px 3px 1px rgba(60, 64, 67, 0.15);\n",
              "    fill: var(--button-hover-fill-color);\n",
              "  }\n",
              "\n",
              "  .colab-df-quickchart-complete:disabled,\n",
              "  .colab-df-quickchart-complete:disabled:hover {\n",
              "    background-color: var(--disabled-bg-color);\n",
              "    fill: var(--disabled-fill-color);\n",
              "    box-shadow: none;\n",
              "  }\n",
              "\n",
              "  .colab-df-spinner {\n",
              "    border: 2px solid var(--fill-color);\n",
              "    border-color: transparent;\n",
              "    border-bottom-color: var(--fill-color);\n",
              "    animation:\n",
              "      spin 1s steps(1) infinite;\n",
              "  }\n",
              "\n",
              "  @keyframes spin {\n",
              "    0% {\n",
              "      border-color: transparent;\n",
              "      border-bottom-color: var(--fill-color);\n",
              "      border-left-color: var(--fill-color);\n",
              "    }\n",
              "    20% {\n",
              "      border-color: transparent;\n",
              "      border-left-color: var(--fill-color);\n",
              "      border-top-color: var(--fill-color);\n",
              "    }\n",
              "    30% {\n",
              "      border-color: transparent;\n",
              "      border-left-color: var(--fill-color);\n",
              "      border-top-color: var(--fill-color);\n",
              "      border-right-color: var(--fill-color);\n",
              "    }\n",
              "    40% {\n",
              "      border-color: transparent;\n",
              "      border-right-color: var(--fill-color);\n",
              "      border-top-color: var(--fill-color);\n",
              "    }\n",
              "    60% {\n",
              "      border-color: transparent;\n",
              "      border-right-color: var(--fill-color);\n",
              "    }\n",
              "    80% {\n",
              "      border-color: transparent;\n",
              "      border-right-color: var(--fill-color);\n",
              "      border-bottom-color: var(--fill-color);\n",
              "    }\n",
              "    90% {\n",
              "      border-color: transparent;\n",
              "      border-bottom-color: var(--fill-color);\n",
              "    }\n",
              "  }\n",
              "</style>\n",
              "\n",
              "  <script>\n",
              "    async function quickchart(key) {\n",
              "      const quickchartButtonEl =\n",
              "        document.querySelector('#' + key + ' button');\n",
              "      quickchartButtonEl.disabled = true;  // To prevent multiple clicks.\n",
              "      quickchartButtonEl.classList.add('colab-df-spinner');\n",
              "      try {\n",
              "        const charts = await google.colab.kernel.invokeFunction(\n",
              "            'suggestCharts', [key], {});\n",
              "      } catch (error) {\n",
              "        console.error('Error during call to suggestCharts:', error);\n",
              "      }\n",
              "      quickchartButtonEl.classList.remove('colab-df-spinner');\n",
              "      quickchartButtonEl.classList.add('colab-df-quickchart-complete');\n",
              "    }\n",
              "    (() => {\n",
              "      let quickchartButtonEl =\n",
              "        document.querySelector('#df-562b7c38-a7dd-4dc8-b260-6d73742e03b0 button');\n",
              "      quickchartButtonEl.style.display =\n",
              "        google.colab.kernel.accessAllowed ? 'block' : 'none';\n",
              "    })();\n",
              "  </script>\n",
              "</div>\n",
              "\n",
              "  <div id=\"id_495d9ffb-4634-4b88-827d-e4ae03f8efcf\">\n",
              "    <style>\n",
              "      .colab-df-generate {\n",
              "        background-color: #E8F0FE;\n",
              "        border: none;\n",
              "        border-radius: 50%;\n",
              "        cursor: pointer;\n",
              "        display: none;\n",
              "        fill: #1967D2;\n",
              "        height: 32px;\n",
              "        padding: 0 0 0 0;\n",
              "        width: 32px;\n",
              "      }\n",
              "\n",
              "      .colab-df-generate:hover {\n",
              "        background-color: #E2EBFA;\n",
              "        box-shadow: 0px 1px 2px rgba(60, 64, 67, 0.3), 0px 1px 3px 1px rgba(60, 64, 67, 0.15);\n",
              "        fill: #174EA6;\n",
              "      }\n",
              "\n",
              "      [theme=dark] .colab-df-generate {\n",
              "        background-color: #3B4455;\n",
              "        fill: #D2E3FC;\n",
              "      }\n",
              "\n",
              "      [theme=dark] .colab-df-generate:hover {\n",
              "        background-color: #434B5C;\n",
              "        box-shadow: 0px 1px 3px 1px rgba(0, 0, 0, 0.15);\n",
              "        filter: drop-shadow(0px 1px 2px rgba(0, 0, 0, 0.3));\n",
              "        fill: #FFFFFF;\n",
              "      }\n",
              "    </style>\n",
              "    <button class=\"colab-df-generate\" onclick=\"generateWithVariable('X_train')\"\n",
              "            title=\"Generate code using this dataframe.\"\n",
              "            style=\"display:none;\">\n",
              "\n",
              "  <svg xmlns=\"http://www.w3.org/2000/svg\" height=\"24px\"viewBox=\"0 0 24 24\"\n",
              "       width=\"24px\">\n",
              "    <path d=\"M7,19H8.4L18.45,9,17,7.55,7,17.6ZM5,21V16.75L18.45,3.32a2,2,0,0,1,2.83,0l1.4,1.43a1.91,1.91,0,0,1,.58,1.4,1.91,1.91,0,0,1-.58,1.4L9.25,21ZM18.45,9,17,7.55Zm-12,3A5.31,5.31,0,0,0,4.9,8.1,5.31,5.31,0,0,0,1,6.5,5.31,5.31,0,0,0,4.9,4.9,5.31,5.31,0,0,0,6.5,1,5.31,5.31,0,0,0,8.1,4.9,5.31,5.31,0,0,0,12,6.5,5.46,5.46,0,0,0,6.5,12Z\"/>\n",
              "  </svg>\n",
              "    </button>\n",
              "    <script>\n",
              "      (() => {\n",
              "      const buttonEl =\n",
              "        document.querySelector('#id_495d9ffb-4634-4b88-827d-e4ae03f8efcf button.colab-df-generate');\n",
              "      buttonEl.style.display =\n",
              "        google.colab.kernel.accessAllowed ? 'block' : 'none';\n",
              "\n",
              "      buttonEl.onclick = () => {\n",
              "        google.colab.notebook.generateWithVariable('X_train');\n",
              "      }\n",
              "      })();\n",
              "    </script>\n",
              "  </div>\n",
              "\n",
              "    </div>\n",
              "  </div>\n"
            ],
            "application/vnd.google.colaboratory.intrinsic+json": {
              "type": "dataframe",
              "variable_name": "X_train"
            }
          },
          "metadata": {},
          "execution_count": 2
        }
      ]
    },
    {
      "cell_type": "code",
      "source": [
        "# 타겟변수를 One-hot 형식으로 변환하기\n",
        "import tensorflow as tf\n",
        "y_train = tf.keras.utils.to_categorical(y_train, 2)\n",
        "y_test = tf.keras.utils.to_categorical(y_test, 2)\n",
        "\n",
        "y_train.shape"
      ],
      "metadata": {
        "colab": {
          "base_uri": "https://localhost:8080/"
        },
        "outputId": "878195b2-6e03-47d7-ccc7-634b8405a902",
        "id": "sr6xbepoFjtT"
      },
      "execution_count": null,
      "outputs": [
        {
          "output_type": "execute_result",
          "data": {
            "text/plain": [
              "(1253, 2)"
            ]
          },
          "metadata": {},
          "execution_count": 3
        }
      ]
    },
    {
      "cell_type": "code",
      "source": [
        "# 모델 정의하기 --- (*3)\n",
        "from keras.models import Sequential\n",
        "from keras.layers import Dense, Dropout\n",
        "\n",
        "model = Sequential()\n",
        "model.add(Dense(32, activation='relu', input_shape=(48,)))\n",
        "model.add(Dense(16, activation='relu'))\n",
        "model.add(Dense(8, activation='relu'))\n",
        "model.add(Dense(2, activation='softmax'))\n",
        "\n",
        "# 모델 컴파일하기 --- (*4)\n",
        "model.compile(\n",
        "    loss='categorical_crossentropy',\n",
        "    optimizer='adam',\n",
        "    metrics=['accuracy'])\n",
        "\n",
        "# 학습 실행하기 --- (*5)\n",
        "hist = model.fit(X_train, y_train,\n",
        "    batch_size=32, epochs=20,\n",
        "    verbose=1,\n",
        "    validation_split=0.1)\n",
        "\n"
      ],
      "metadata": {
        "colab": {
          "base_uri": "https://localhost:8080/"
        },
        "outputId": "0538d2fb-99e3-42dc-bf75-44d26cd8adbd",
        "id": "v12OtJQSFjtT"
      },
      "execution_count": null,
      "outputs": [
        {
          "output_type": "stream",
          "name": "stdout",
          "text": [
            "Epoch 1/20\n",
            "36/36 [==============================] - 5s 23ms/step - loss: 0.3935 - accuracy: 0.9317 - val_loss: 0.1978 - val_accuracy: 0.9603\n",
            "Epoch 2/20\n",
            "36/36 [==============================] - 0s 10ms/step - loss: 0.2507 - accuracy: 0.9317 - val_loss: 0.1704 - val_accuracy: 0.9603\n",
            "Epoch 3/20\n",
            "36/36 [==============================] - 0s 5ms/step - loss: 0.2481 - accuracy: 0.9317 - val_loss: 0.1755 - val_accuracy: 0.9603\n",
            "Epoch 4/20\n",
            "36/36 [==============================] - 0s 8ms/step - loss: 0.2492 - accuracy: 0.9317 - val_loss: 0.1738 - val_accuracy: 0.9603\n",
            "Epoch 5/20\n",
            "36/36 [==============================] - 0s 10ms/step - loss: 0.2478 - accuracy: 0.9317 - val_loss: 0.1703 - val_accuracy: 0.9603\n",
            "Epoch 6/20\n",
            "36/36 [==============================] - 0s 8ms/step - loss: 0.2468 - accuracy: 0.9317 - val_loss: 0.1751 - val_accuracy: 0.9603\n",
            "Epoch 7/20\n",
            "36/36 [==============================] - 0s 7ms/step - loss: 0.2466 - accuracy: 0.9317 - val_loss: 0.1696 - val_accuracy: 0.9603\n",
            "Epoch 8/20\n",
            "36/36 [==============================] - 0s 6ms/step - loss: 0.2470 - accuracy: 0.9317 - val_loss: 0.1700 - val_accuracy: 0.9603\n",
            "Epoch 9/20\n",
            "36/36 [==============================] - 0s 8ms/step - loss: 0.2464 - accuracy: 0.9317 - val_loss: 0.1712 - val_accuracy: 0.9603\n",
            "Epoch 10/20\n",
            "36/36 [==============================] - 0s 6ms/step - loss: 0.2458 - accuracy: 0.9317 - val_loss: 0.1723 - val_accuracy: 0.9603\n",
            "Epoch 11/20\n",
            "36/36 [==============================] - 0s 8ms/step - loss: 0.2466 - accuracy: 0.9317 - val_loss: 0.1722 - val_accuracy: 0.9603\n",
            "Epoch 12/20\n",
            "36/36 [==============================] - 0s 7ms/step - loss: 0.2452 - accuracy: 0.9317 - val_loss: 0.1719 - val_accuracy: 0.9603\n",
            "Epoch 13/20\n",
            "36/36 [==============================] - 0s 7ms/step - loss: 0.2455 - accuracy: 0.9317 - val_loss: 0.1701 - val_accuracy: 0.9603\n",
            "Epoch 14/20\n",
            "36/36 [==============================] - 0s 12ms/step - loss: 0.2453 - accuracy: 0.9317 - val_loss: 0.1756 - val_accuracy: 0.9603\n",
            "Epoch 15/20\n",
            "36/36 [==============================] - 0s 8ms/step - loss: 0.2440 - accuracy: 0.9317 - val_loss: 0.1688 - val_accuracy: 0.9603\n",
            "Epoch 16/20\n",
            "36/36 [==============================] - 0s 9ms/step - loss: 0.2445 - accuracy: 0.9317 - val_loss: 0.1792 - val_accuracy: 0.9603\n",
            "Epoch 17/20\n",
            "36/36 [==============================] - 0s 9ms/step - loss: 0.2448 - accuracy: 0.9317 - val_loss: 0.1736 - val_accuracy: 0.9603\n",
            "Epoch 18/20\n",
            "36/36 [==============================] - 0s 9ms/step - loss: 0.2443 - accuracy: 0.9317 - val_loss: 0.1762 - val_accuracy: 0.9603\n",
            "Epoch 19/20\n",
            "36/36 [==============================] - 0s 7ms/step - loss: 0.2449 - accuracy: 0.9317 - val_loss: 0.1714 - val_accuracy: 0.9603\n",
            "Epoch 20/20\n",
            "36/36 [==============================] - 0s 5ms/step - loss: 0.2435 - accuracy: 0.9317 - val_loss: 0.1675 - val_accuracy: 0.9603\n"
          ]
        }
      ]
    },
    {
      "cell_type": "code",
      "source": [
        "# 모델 평가하기 --- (*6)\n",
        "score = model.evaluate(X_test, y_test, verbose=1)\n",
        "print('정답률=', score[1], 'loss=', score[0])\n"
      ],
      "metadata": {
        "colab": {
          "base_uri": "https://localhost:8080/"
        },
        "outputId": "de6385a3-7c81-40fb-e42e-6509575c6580",
        "id": "DrPQH8qxFjtT"
      },
      "execution_count": null,
      "outputs": [
        {
          "output_type": "stream",
          "name": "stdout",
          "text": [
            "10/10 [==============================] - 0s 7ms/step - loss: 0.3050 - accuracy: 0.9299\n",
            "정답률= 0.9299362897872925 loss= 0.30498504638671875\n"
          ]
        }
      ]
    },
    {
      "cell_type": "code",
      "source": [
        "from sklearn.metrics import classification_report\n",
        "import numpy as np\n",
        "pred = np.argmax( model.predict( X_test), axis=1 )\n",
        "y_test = np.argmax( y_test, axis=1 )\n",
        "print( classification_report( y_test, pred ) )\n"
      ],
      "metadata": {
        "colab": {
          "base_uri": "https://localhost:8080/"
        },
        "id": "-G9p9JXPH898",
        "outputId": "b47185bd-a4d3-41d6-c5ff-3f3f7ea680ed"
      },
      "execution_count": null,
      "outputs": [
        {
          "output_type": "stream",
          "name": "stdout",
          "text": [
            "10/10 [==============================] - 1s 6ms/step\n",
            "              precision    recall  f1-score   support\n",
            "\n",
            "           0       0.93      1.00      0.96       292\n",
            "           1       0.00      0.00      0.00        22\n",
            "\n",
            "    accuracy                           0.93       314\n",
            "   macro avg       0.46      0.50      0.48       314\n",
            "weighted avg       0.86      0.93      0.90       314\n",
            "\n"
          ]
        },
        {
          "output_type": "stream",
          "name": "stderr",
          "text": [
            "/usr/local/lib/python3.10/dist-packages/sklearn/metrics/_classification.py:1344: UndefinedMetricWarning: Precision and F-score are ill-defined and being set to 0.0 in labels with no predicted samples. Use `zero_division` parameter to control this behavior.\n",
            "  _warn_prf(average, modifier, msg_start, len(result))\n",
            "/usr/local/lib/python3.10/dist-packages/sklearn/metrics/_classification.py:1344: UndefinedMetricWarning: Precision and F-score are ill-defined and being set to 0.0 in labels with no predicted samples. Use `zero_division` parameter to control this behavior.\n",
            "  _warn_prf(average, modifier, msg_start, len(result))\n",
            "/usr/local/lib/python3.10/dist-packages/sklearn/metrics/_classification.py:1344: UndefinedMetricWarning: Precision and F-score are ill-defined and being set to 0.0 in labels with no predicted samples. Use `zero_division` parameter to control this behavior.\n",
            "  _warn_prf(average, modifier, msg_start, len(result))\n"
          ]
        }
      ]
    },
    {
      "cell_type": "code",
      "source": [
        "hist.history['accuracy']"
      ],
      "metadata": {
        "colab": {
          "base_uri": "https://localhost:8080/"
        },
        "outputId": "1ed7debb-b693-4331-ea1f-27f443c99457",
        "id": "mgUpFm_cFjtT"
      },
      "execution_count": null,
      "outputs": [
        {
          "output_type": "execute_result",
          "data": {
            "text/plain": [
              "[0.9316770434379578,\n",
              " 0.9316770434379578,\n",
              " 0.9316770434379578,\n",
              " 0.9316770434379578,\n",
              " 0.9316770434379578,\n",
              " 0.9316770434379578,\n",
              " 0.9316770434379578,\n",
              " 0.9316770434379578,\n",
              " 0.9316770434379578,\n",
              " 0.9316770434379578,\n",
              " 0.9316770434379578,\n",
              " 0.9316770434379578,\n",
              " 0.9316770434379578,\n",
              " 0.9316770434379578,\n",
              " 0.9316770434379578,\n",
              " 0.9316770434379578,\n",
              " 0.9316770434379578,\n",
              " 0.9316770434379578,\n",
              " 0.9316770434379578,\n",
              " 0.9316770434379578]"
            ]
          },
          "metadata": {},
          "execution_count": 7
        }
      ]
    },
    {
      "cell_type": "code",
      "source": [
        "# 학습 상태를 그래프로 그리기 --- (*7)\n",
        "import matplotlib.pyplot as plt\n",
        "plt.plot(hist.history['accuracy'])\n",
        "plt.plot(hist.history['val_accuracy'])\n",
        "plt.title('Accuracy')\n",
        "plt.legend(['train', 'test'], loc='upper left')\n",
        "plt.show()\n",
        "plt.plot(hist.history['loss'])\n",
        "plt.plot(hist.history['val_loss'])\n",
        "plt.title('Loss')\n",
        "plt.legend(['train', 'val'], loc='upper left')\n",
        "plt.show()"
      ],
      "metadata": {
        "colab": {
          "base_uri": "https://localhost:8080/",
          "height": 887
        },
        "outputId": "0fdf20b5-cc7a-4f8b-fc8a-2aa64a3a0d2c",
        "id": "Ty53X3CnFjtT"
      },
      "execution_count": null,
      "outputs": [
        {
          "output_type": "display_data",
          "data": {
            "text/plain": [
              "<Figure size 640x480 with 1 Axes>"
            ],
            "image/png": "[encoded data removed]"
          },
          "metadata": {}
        },
        {
          "output_type": "display_data",
          "data": {
            "text/plain": [
              "<Figure size 640x480 with 1 Axes>"
            ],
            "image/png": "[encoded data removed]"
          },
          "metadata": {}
        }
      ]
    },
    {
      "cell_type": "markdown",
      "source": [
        "**굵은 텍스트**## 5. Oversampling"
      ],
      "metadata": {
        "id": "jTNSxcbDEvNH"
      }
    },
    {
      "cell_type": "markdown",
      "source": [
        "- Up sampling, Down Sampling\n",
        " - down sampling: 데이터 수를 줄이기\n",
        " - up sampling: 늘리기"
      ],
      "metadata": {
        "id": "pdPyDjK7Tej-"
      }
    },
    {
      "cell_type": "code",
      "source": [
        "import numpy as np # linear algebra\n",
        "import pandas as pd # data processing, CSV file I/O (e.g. pd.read_csv)\n",
        "import matplotlib.pyplot as plt\n",
        "import seaborn as sns\n",
        "\n",
        "#파티셔닝 수행\n",
        "from sklearn.model_selection import train_test_split\n",
        "import numpy as np\n",
        "\n",
        "# calculate accuracy measures and confusion matrix\n",
        "from sklearn import metrics\n",
        "from sklearn.metrics import recall_score\n",
        "\n",
        "from imblearn.over_sampling import SMOTE   # ***\n",
        "\n",
        "data = pd.read_csv(\"data.csv\")\n",
        "data.info()\n",
        "data['Pass.Fail'].value_counts()"
      ],
      "metadata": {
        "id": "Yla6NK0NfMa-",
        "colab": {
          "base_uri": "https://localhost:8080/"
        },
        "outputId": "44af7730-548f-4184-fe1c-053f7054c595"
      },
      "execution_count": null,
      "outputs": [
        {
          "output_type": "stream",
          "name": "stdout",
          "text": [
            "<class 'pandas.core.frame.DataFrame'>\n",
            "RangeIndex: 1567 entries, 0 to 1566\n",
            "Data columns (total 49 columns):\n",
            " #   Column     Non-Null Count  Dtype  \n",
            "---  ------     --------------  -----  \n",
            " 0   X20        1567 non-null   float64\n",
            " 1   X86        1567 non-null   float64\n",
            " 2   X87        1567 non-null   float64\n",
            " 3   X88        1567 non-null   float64\n",
            " 4   X113       1567 non-null   float64\n",
            " 5   X115       1567 non-null   float64\n",
            " 6   X116       1567 non-null   float64\n",
            " 7   X117       1567 non-null   float64\n",
            " 8   X119       1567 non-null   float64\n",
            " 9   X120       1567 non-null   float64\n",
            " 10  X156       1567 non-null   float64\n",
            " 11  X221       1567 non-null   float64\n",
            " 12  X222       1567 non-null   float64\n",
            " 13  X223       1567 non-null   float64\n",
            " 14  X248       1567 non-null   float64\n",
            " 15  X250       1567 non-null   float64\n",
            " 16  X251       1567 non-null   float64\n",
            " 17  X252       1567 non-null   float64\n",
            " 18  X254       1567 non-null   float64\n",
            " 19  X255       1567 non-null   float64\n",
            " 20  X291       1567 non-null   float64\n",
            " 21  X359       1567 non-null   float64\n",
            " 22  X360       1567 non-null   float64\n",
            " 23  X361       1567 non-null   float64\n",
            " 24  X386       1567 non-null   float64\n",
            " 25  X388       1567 non-null   float64\n",
            " 26  X389       1567 non-null   float64\n",
            " 27  X390       1567 non-null   float64\n",
            " 28  X392       1567 non-null   float64\n",
            " 29  X393       1567 non-null   float64\n",
            " 30  X429       1567 non-null   float64\n",
            " 31  X493       1567 non-null   float64\n",
            " 32  X494       1567 non-null   float64\n",
            " 33  X495       1567 non-null   float64\n",
            " 34  X520       1567 non-null   float64\n",
            " 35  X522       1567 non-null   float64\n",
            " 36  X523       1567 non-null   float64\n",
            " 37  X524       1567 non-null   float64\n",
            " 38  X526       1567 non-null   float64\n",
            " 39  X527       1567 non-null   float64\n",
            " 40  X570       1567 non-null   float64\n",
            " 41  X571       1567 non-null   float64\n",
            " 42  X572       1567 non-null   float64\n",
            " 43  X573       1567 non-null   float64\n",
            " 44  X574       1567 non-null   float64\n",
            " 45  X575       1567 non-null   float64\n",
            " 46  X576       1567 non-null   float64\n",
            " 47  X577       1567 non-null   float64\n",
            " 48  Pass.Fail  1567 non-null   int64  \n",
            "dtypes: float64(48), int64(1)\n",
            "memory usage: 600.0 KB\n"
          ]
        },
        {
          "output_type": "execute_result",
          "data": {
            "text/plain": [
              "Pass.Fail\n",
              "0    1463\n",
              "1     104\n",
              "Name: count, dtype: int64"
            ]
          },
          "metadata": {},
          "execution_count": 74
        }
      ]
    },
    {
      "cell_type": "code",
      "source": [
        "data[~data.applymap(np.isreal).all(1)]\n",
        "data = data.fillna(data.median())\n",
        "data.describe().transpose()\n",
        "data.groupby([\"Pass.Fail\"]).count()"
      ],
      "metadata": {
        "id": "jhK-UvCXbCNA",
        "colab": {
          "base_uri": "https://localhost:8080/",
          "height": 173
        },
        "outputId": "c145f8ca-e12a-4243-cd54-99176265c552"
      },
      "execution_count": null,
      "outputs": [
        {
          "output_type": "execute_result",
          "data": {
            "text/plain": [
              "            X20   X86   X87   X88  X113  X115  X116  X117  X119  X120  ...  \\\n",
              "Pass.Fail                                                              ...   \n",
              "0          1463  1463  1463  1463  1463  1463  1463  1463  1463  1463  ...   \n",
              "1           104   104   104   104   104   104   104   104   104   104  ...   \n",
              "\n",
              "           X526  X527  X570  X571  X572  X573  X574  X575  X576  X577  \n",
              "Pass.Fail                                                              \n",
              "0          1463  1463  1463  1463  1463  1463  1463  1463  1463  1463  \n",
              "1           104   104   104   104   104   104   104   104   104   104  \n",
              "\n",
              "[2 rows x 48 columns]"
            ],
            "text/html": [
              "\n",
              "  <div id=\"df-6726cfbe-c264-43ad-99b5-9e6f7a1790f4\" class=\"colab-df-container\">\n",
              "    <div>\n",
              "<style scoped>\n",
              "    .dataframe tbody tr th:only-of-type {\n",
              "        vertical-align: middle;\n",
              "    }\n",
              "\n",
              "    .dataframe tbody tr th {\n",
              "        vertical-align: top;\n",
              "    }\n",
              "\n",
              "    .dataframe thead th {\n",
              "        text-align: right;\n",
              "    }\n",
              "</style>\n",
              "<table border=\"1\" class=\"dataframe\">\n",
              "  <thead>\n",
              "    <tr style=\"text-align: right;\">\n",
              "      <th></th>\n",
              "      <th>X20</th>\n",
              "      <th>X86</th>\n",
              "      <th>X87</th>\n",
              "      <th>X88</th>\n",
              "      <th>X113</th>\n",
              "      <th>X115</th>\n",
              "      <th>X116</th>\n",
              "      <th>X117</th>\n",
              "      <th>X119</th>\n",
              "      <th>X120</th>\n",
              "      <th>...</th>\n",
              "      <th>X526</th>\n",
              "      <th>X527</th>\n",
              "      <th>X570</th>\n",
              "      <th>X571</th>\n",
              "      <th>X572</th>\n",
              "      <th>X573</th>\n",
              "      <th>X574</th>\n",
              "      <th>X575</th>\n",
              "      <th>X576</th>\n",
              "      <th>X577</th>\n",
              "    </tr>\n",
              "    <tr>\n",
              "      <th>Pass.Fail</th>\n",
              "      <th></th>\n",
              "      <th></th>\n",
              "      <th></th>\n",
              "      <th></th>\n",
              "      <th></th>\n",
              "      <th></th>\n",
              "      <th></th>\n",
              "      <th></th>\n",
              "      <th></th>\n",
              "      <th></th>\n",
              "      <th></th>\n",
              "      <th></th>\n",
              "      <th></th>\n",
              "      <th></th>\n",
              "      <th></th>\n",
              "      <th></th>\n",
              "      <th></th>\n",
              "      <th></th>\n",
              "      <th></th>\n",
              "      <th></th>\n",
              "      <th></th>\n",
              "    </tr>\n",
              "  </thead>\n",
              "  <tbody>\n",
              "    <tr>\n",
              "      <th>0</th>\n",
              "      <td>1463</td>\n",
              "      <td>1463</td>\n",
              "      <td>1463</td>\n",
              "      <td>1463</td>\n",
              "      <td>1463</td>\n",
              "      <td>1463</td>\n",
              "      <td>1463</td>\n",
              "      <td>1463</td>\n",
              "      <td>1463</td>\n",
              "      <td>1463</td>\n",
              "      <td>...</td>\n",
              "      <td>1463</td>\n",
              "      <td>1463</td>\n",
              "      <td>1463</td>\n",
              "      <td>1463</td>\n",
              "      <td>1463</td>\n",
              "      <td>1463</td>\n",
              "      <td>1463</td>\n",
              "      <td>1463</td>\n",
              "      <td>1463</td>\n",
              "      <td>1463</td>\n",
              "    </tr>\n",
              "    <tr>\n",
              "      <th>1</th>\n",
              "      <td>104</td>\n",
              "      <td>104</td>\n",
              "      <td>104</td>\n",
              "      <td>104</td>\n",
              "      <td>104</td>\n",
              "      <td>104</td>\n",
              "      <td>104</td>\n",
              "      <td>104</td>\n",
              "      <td>104</td>\n",
              "      <td>104</td>\n",
              "      <td>...</td>\n",
              "      <td>104</td>\n",
              "      <td>104</td>\n",
              "      <td>104</td>\n",
              "      <td>104</td>\n",
              "      <td>104</td>\n",
              "      <td>104</td>\n",
              "      <td>104</td>\n",
              "      <td>104</td>\n",
              "      <td>104</td>\n",
              "      <td>104</td>\n",
              "    </tr>\n",
              "  </tbody>\n",
              "</table>\n",
              "<p>2 rows × 48 columns</p>\n",
              "</div>\n",
              "    <div class=\"colab-df-buttons\">\n",
              "\n",
              "  <div class=\"colab-df-container\">\n",
              "    <button class=\"colab-df-convert\" onclick=\"convertToInteractive('df-6726cfbe-c264-43ad-99b5-9e6f7a1790f4')\"\n",
              "            title=\"Convert this dataframe to an interactive table.\"\n",
              "            style=\"display:none;\">\n",
              "\n",
              "  <svg xmlns=\"http://www.w3.org/2000/svg\" height=\"24px\" viewBox=\"0 -960 960 960\">\n",
              "    <path d=\"M120-120v-720h720v720H120Zm60-500h600v-160H180v160Zm220 220h160v-160H400v160Zm0 220h160v-160H400v160ZM180-400h160v-160H180v160Zm440 0h160v-160H620v160ZM180-180h160v-160H180v160Zm440 0h160v-160H620v160Z\"/>\n",
              "  </svg>\n",
              "    </button>\n",
              "\n",
              "  <style>\n",
              "    .colab-df-container {\n",
              "      display:flex;\n",
              "      gap: 12px;\n",
              "    }\n",
              "\n",
              "    .colab-df-convert {\n",
              "      background-color: #E8F0FE;\n",
              "      border: none;\n",
              "      border-radius: 50%;\n",
              "      cursor: pointer;\n",
              "      display: none;\n",
              "      fill: #1967D2;\n",
              "      height: 32px;\n",
              "      padding: 0 0 0 0;\n",
              "      width: 32px;\n",
              "    }\n",
              "\n",
              "    .colab-df-convert:hover {\n",
              "      background-color: #E2EBFA;\n",
              "      box-shadow: 0px 1px 2px rgba(60, 64, 67, 0.3), 0px 1px 3px 1px rgba(60, 64, 67, 0.15);\n",
              "      fill: #174EA6;\n",
              "    }\n",
              "\n",
              "    .colab-df-buttons div {\n",
              "      margin-bottom: 4px;\n",
              "    }\n",
              "\n",
              "    [theme=dark] .colab-df-convert {\n",
              "      background-color: #3B4455;\n",
              "      fill: #D2E3FC;\n",
              "    }\n",
              "\n",
              "    [theme=dark] .colab-df-convert:hover {\n",
              "      background-color: #434B5C;\n",
              "      box-shadow: 0px 1px 3px 1px rgba(0, 0, 0, 0.15);\n",
              "      filter: drop-shadow(0px 1px 2px rgba(0, 0, 0, 0.3));\n",
              "      fill: #FFFFFF;\n",
              "    }\n",
              "  </style>\n",
              "\n",
              "    <script>\n",
              "      const buttonEl =\n",
              "        document.querySelector('#df-6726cfbe-c264-43ad-99b5-9e6f7a1790f4 button.colab-df-convert');\n",
              "      buttonEl.style.display =\n",
              "        google.colab.kernel.accessAllowed ? 'block' : 'none';\n",
              "\n",
              "      async function convertToInteractive(key) {\n",
              "        const element = document.querySelector('#df-6726cfbe-c264-43ad-99b5-9e6f7a1790f4');\n",
              "        const dataTable =\n",
              "          await google.colab.kernel.invokeFunction('convertToInteractive',\n",
              "                                                    [key], {});\n",
              "        if (!dataTable) return;\n",
              "\n",
              "        const docLinkHtml = 'Like what you see? Visit the ' +\n",
              "          '<a target=\"_blank\" href=https://colab.research.google.com/notebooks/data_table.ipynb>data table notebook</a>'\n",
              "          + ' to learn more about interactive tables.';\n",
              "        element.innerHTML = '';\n",
              "        dataTable['output_type'] = 'display_data';\n",
              "        await google.colab.output.renderOutput(dataTable, element);\n",
              "        const docLink = document.createElement('div');\n",
              "        docLink.innerHTML = docLinkHtml;\n",
              "        element.appendChild(docLink);\n",
              "      }\n",
              "    </script>\n",
              "  </div>\n",
              "\n",
              "\n",
              "<div id=\"df-d41a1f8f-b1f4-401f-9812-90ff7b4dfaac\">\n",
              "  <button class=\"colab-df-quickchart\" onclick=\"quickchart('df-d41a1f8f-b1f4-401f-9812-90ff7b4dfaac')\"\n",
              "            title=\"Suggest charts\"\n",
              "            style=\"display:none;\">\n",
              "\n",
              "<svg xmlns=\"http://www.w3.org/2000/svg\" height=\"24px\"viewBox=\"0 0 24 24\"\n",
              "     width=\"24px\">\n",
              "    <g>\n",
              "        <path d=\"M19 3H5c-1.1 0-2 .9-2 2v14c0 1.1.9 2 2 2h14c1.1 0 2-.9 2-2V5c0-1.1-.9-2-2-2zM9 17H7v-7h2v7zm4 0h-2V7h2v10zm4 0h-2v-4h2v4z\"/>\n",
              "    </g>\n",
              "</svg>\n",
              "  </button>\n",
              "\n",
              "<style>\n",
              "  .colab-df-quickchart {\n",
              "      --bg-color: #E8F0FE;\n",
              "      --fill-color: #1967D2;\n",
              "      --hover-bg-color: #E2EBFA;\n",
              "      --hover-fill-color: #174EA6;\n",
              "      --disabled-fill-color: #AAA;\n",
              "      --disabled-bg-color: #DDD;\n",
              "  }\n",
              "\n",
              "  [theme=dark] .colab-df-quickchart {\n",
              "      --bg-color: #3B4455;\n",
              "      --fill-color: #D2E3FC;\n",
              "      --hover-bg-color: #434B5C;\n",
              "      --hover-fill-color: #FFFFFF;\n",
              "      --disabled-bg-color: #3B4455;\n",
              "      --disabled-fill-color: #666;\n",
              "  }\n",
              "\n",
              "  .colab-df-quickchart {\n",
              "    background-color: var(--bg-color);\n",
              "    border: none;\n",
              "    border-radius: 50%;\n",
              "    cursor: pointer;\n",
              "    display: none;\n",
              "    fill: var(--fill-color);\n",
              "    height: 32px;\n",
              "    padding: 0;\n",
              "    width: 32px;\n",
              "  }\n",
              "\n",
              "  .colab-df-quickchart:hover {\n",
              "    background-color: var(--hover-bg-color);\n",
              "    box-shadow: 0 1px 2px rgba(60, 64, 67, 0.3), 0 1px 3px 1px rgba(60, 64, 67, 0.15);\n",
              "    fill: var(--button-hover-fill-color);\n",
              "  }\n",
              "\n",
              "  .colab-df-quickchart-complete:disabled,\n",
              "  .colab-df-quickchart-complete:disabled:hover {\n",
              "    background-color: var(--disabled-bg-color);\n",
              "    fill: var(--disabled-fill-color);\n",
              "    box-shadow: none;\n",
              "  }\n",
              "\n",
              "  .colab-df-spinner {\n",
              "    border: 2px solid var(--fill-color);\n",
              "    border-color: transparent;\n",
              "    border-bottom-color: var(--fill-color);\n",
              "    animation:\n",
              "      spin 1s steps(1) infinite;\n",
              "  }\n",
              "\n",
              "  @keyframes spin {\n",
              "    0% {\n",
              "      border-color: transparent;\n",
              "      border-bottom-color: var(--fill-color);\n",
              "      border-left-color: var(--fill-color);\n",
              "    }\n",
              "    20% {\n",
              "      border-color: transparent;\n",
              "      border-left-color: var(--fill-color);\n",
              "      border-top-color: var(--fill-color);\n",
              "    }\n",
              "    30% {\n",
              "      border-color: transparent;\n",
              "      border-left-color: var(--fill-color);\n",
              "      border-top-color: var(--fill-color);\n",
              "      border-right-color: var(--fill-color);\n",
              "    }\n",
              "    40% {\n",
              "      border-color: transparent;\n",
              "      border-right-color: var(--fill-color);\n",
              "      border-top-color: var(--fill-color);\n",
              "    }\n",
              "    60% {\n",
              "      border-color: transparent;\n",
              "      border-right-color: var(--fill-color);\n",
              "    }\n",
              "    80% {\n",
              "      border-color: transparent;\n",
              "      border-right-color: var(--fill-color);\n",
              "      border-bottom-color: var(--fill-color);\n",
              "    }\n",
              "    90% {\n",
              "      border-color: transparent;\n",
              "      border-bottom-color: var(--fill-color);\n",
              "    }\n",
              "  }\n",
              "</style>\n",
              "\n",
              "  <script>\n",
              "    async function quickchart(key) {\n",
              "      const quickchartButtonEl =\n",
              "        document.querySelector('#' + key + ' button');\n",
              "      quickchartButtonEl.disabled = true;  // To prevent multiple clicks.\n",
              "      quickchartButtonEl.classList.add('colab-df-spinner');\n",
              "      try {\n",
              "        const charts = await google.colab.kernel.invokeFunction(\n",
              "            'suggestCharts', [key], {});\n",
              "      } catch (error) {\n",
              "        console.error('Error during call to suggestCharts:', error);\n",
              "      }\n",
              "      quickchartButtonEl.classList.remove('colab-df-spinner');\n",
              "      quickchartButtonEl.classList.add('colab-df-quickchart-complete');\n",
              "    }\n",
              "    (() => {\n",
              "      let quickchartButtonEl =\n",
              "        document.querySelector('#df-d41a1f8f-b1f4-401f-9812-90ff7b4dfaac button');\n",
              "      quickchartButtonEl.style.display =\n",
              "        google.colab.kernel.accessAllowed ? 'block' : 'none';\n",
              "    })();\n",
              "  </script>\n",
              "</div>\n",
              "\n",
              "    </div>\n",
              "  </div>\n"
            ],
            "application/vnd.google.colaboratory.intrinsic+json": {
              "type": "dataframe"
            }
          },
          "metadata": {},
          "execution_count": 75
        }
      ]
    },
    {
      "cell_type": "markdown",
      "source": [
        " - Up sampling"
      ],
      "metadata": {
        "id": "WlPBVHJ1T6Aq"
      }
    },
    {
      "cell_type": "code",
      "source": [
        "array = data.values\n",
        "X = array[:,0:48] # select all rows and first 8 columns which are the attributes\n",
        "Y = array[:,48]   # select all rows and the 8th column which is the classification \"Yes\", \"No\" for diabeties\n",
        "test_size = 0.30 # taking 70:30 training and test set\n",
        "seed = 7  # Random numbmer seeding for reapeatability of the code\n",
        "X_train, X_test, y_train, y_test = train_test_split(X, Y, test_size=test_size, random_state=seed)\n",
        "type(X_train)\n",
        "\n",
        "#SMOTE for upsampling smaller cases\n",
        "print(\"Before UpSampling, counts of label '1': {}\".format(sum(y_train==1)))\n",
        "print(\"Before UpSampling, counts of label '0': {} \\n\".format(sum(y_train==0)))"
      ],
      "metadata": {
        "colab": {
          "base_uri": "https://localhost:8080/"
        },
        "id": "Cm8EN4Dzss5C",
        "outputId": "93d3547e-072e-4988-be8e-5c55fd56949b"
      },
      "execution_count": null,
      "outputs": [
        {
          "output_type": "stream",
          "name": "stdout",
          "text": [
            "Before UpSampling, counts of label '1': 81\n",
            "Before UpSampling, counts of label '0': 1015 \n",
            "\n"
          ]
        }
      ]
    },
    {
      "cell_type": "code",
      "source": [
        "sm = SMOTE(sampling_strategy = 0.5 ,k_neighbors = 3, random_state=1) # *** sampling_strategy\n",
        "#Synthetic Minority Over Sampling Technique\n",
        "X_train_res, y_train_res = sm.fit_resample(X_train, y_train)  *** fit_resample\n",
        "\n",
        "print(\"After UpSampling, counts of label '1': {}\".format(sum(y_train_res==1)))\n",
        "print(\"After UpSampling, counts of label '0': {} \\n\".format(sum(y_train_res==0)))\n",
        "print('After UpSampling, the shape of train_X: {}'.format(X_train_res.shape))\n",
        "print('After UpSampling, the shape of train_y: {} \\n'.format(y_train_res.shape))"
      ],
      "metadata": {
        "colab": {
          "base_uri": "https://localhost:8080/"
        },
        "id": "SuymE6R-INWR",
        "outputId": "801c06af-7a4d-4235-d089-e142478ccb2a"
      },
      "execution_count": null,
      "outputs": [
        {
          "output_type": "stream",
          "name": "stdout",
          "text": [
            "After UpSampling, counts of label '1': 507\n",
            "After UpSampling, counts of label '0': 1015 \n",
            "\n",
            "After UpSampling, the shape of train_X: (1522, 48)\n",
            "After UpSampling, the shape of train_y: (1522,) \n",
            "\n"
          ]
        }
      ]
    },
    {
      "cell_type": "code",
      "source": [
        "scaler = MinMaxScaler()\n",
        "X_train = pd.DataFrame( scaler.fit_transform( X_train_res), columns = data.columns[0:48] )\n",
        "X_test = pd.DataFrame( scaler.fit_transform( X_test), columns = data.columns[0:48] )"
      ],
      "metadata": {
        "id": "8sP6T4kcqV-_"
      },
      "execution_count": null,
      "outputs": []
    },
    {
      "cell_type": "code",
      "source": [
        "import tensorflow as tf\n",
        "y_train = tf.keras.utils.to_categorical(y_train_res, 2)\n",
        "y_test = tf.keras.utils.to_categorical(y_test, 2)\n"
      ],
      "metadata": {
        "id": "jltv8lniIlSh"
      },
      "execution_count": null,
      "outputs": []
    },
    {
      "cell_type": "code",
      "source": [
        "# 모델 정의하기 --- (*3)\n",
        "from keras.models import Sequential\n",
        "from keras.layers import Dense, Dropout\n",
        "\n",
        "model = Sequential()\n",
        "model.add(Dense(32, activation='relu', input_shape=(48,)))\n",
        "#model.add(Dense(32, activation='relu'))\n",
        "model.add(Dense(16, activation='relu'))\n",
        "#model.add(Dropout(0.25))\n",
        "model.add(Dense(8, activation='relu'))\n",
        "model.add(Dense(2, activation='softmax'))\n",
        "\n",
        "# 모델 컴파일하기 --- (*4)\n",
        "model.compile(\n",
        "    loss='categorical_crossentropy',\n",
        "    optimizer='adam',\n",
        "    metrics=['accuracy'])\n",
        "\n",
        "# 학습 실행하기 --- (*5)\n",
        "hist = model.fit(X_train, y_train,\n",
        "    batch_size=32, epochs=20,\n",
        "    verbose=1,\n",
        "    validation_split=0.1)\n"
      ],
      "metadata": {
        "colab": {
          "base_uri": "https://localhost:8080/"
        },
        "id": "NXBQh9O-IlhR",
        "outputId": "ffe57b26-b5e9-4bc4-fc0b-4759090971db"
      },
      "execution_count": null,
      "outputs": [
        {
          "output_type": "stream",
          "name": "stdout",
          "text": [
            "Epoch 1/20\n",
            "43/43 [==============================] - 1s 8ms/step - loss: 0.6870 - accuracy: 0.6501 - val_loss: 0.7335 - val_accuracy: 0.0000e+00\n",
            "Epoch 2/20\n",
            "43/43 [==============================] - 0s 3ms/step - loss: 0.6610 - accuracy: 0.7414 - val_loss: 0.8418 - val_accuracy: 0.0000e+00\n",
            "Epoch 3/20\n",
            "43/43 [==============================] - 0s 3ms/step - loss: 0.5952 - accuracy: 0.7414 - val_loss: 1.3284 - val_accuracy: 0.0000e+00\n",
            "Epoch 4/20\n",
            "43/43 [==============================] - 0s 3ms/step - loss: 0.5737 - accuracy: 0.7414 - val_loss: 1.4154 - val_accuracy: 0.0000e+00\n",
            "Epoch 5/20\n",
            "43/43 [==============================] - 0s 4ms/step - loss: 0.5716 - accuracy: 0.7414 - val_loss: 1.3229 - val_accuracy: 0.0000e+00\n",
            "Epoch 6/20\n",
            "43/43 [==============================] - 0s 4ms/step - loss: 0.5698 - accuracy: 0.7414 - val_loss: 1.3226 - val_accuracy: 0.0000e+00\n",
            "Epoch 7/20\n",
            "43/43 [==============================] - 0s 3ms/step - loss: 0.5692 - accuracy: 0.7414 - val_loss: 1.2709 - val_accuracy: 0.0000e+00\n",
            "Epoch 8/20\n",
            "43/43 [==============================] - 0s 4ms/step - loss: 0.5683 - accuracy: 0.7414 - val_loss: 1.3351 - val_accuracy: 0.0000e+00\n",
            "Epoch 9/20\n",
            "43/43 [==============================] - 0s 3ms/step - loss: 0.5673 - accuracy: 0.7414 - val_loss: 1.3572 - val_accuracy: 0.0000e+00\n",
            "Epoch 10/20\n",
            "43/43 [==============================] - 0s 4ms/step - loss: 0.5667 - accuracy: 0.7414 - val_loss: 1.3856 - val_accuracy: 0.0000e+00\n",
            "Epoch 11/20\n",
            "43/43 [==============================] - 0s 3ms/step - loss: 0.5643 - accuracy: 0.7414 - val_loss: 1.2308 - val_accuracy: 0.0000e+00\n",
            "Epoch 12/20\n",
            "43/43 [==============================] - 0s 4ms/step - loss: 0.5648 - accuracy: 0.7414 - val_loss: 1.3759 - val_accuracy: 0.0000e+00\n",
            "Epoch 13/20\n",
            "43/43 [==============================] - 0s 3ms/step - loss: 0.5629 - accuracy: 0.7414 - val_loss: 1.3346 - val_accuracy: 0.0000e+00\n",
            "Epoch 14/20\n",
            "43/43 [==============================] - 0s 3ms/step - loss: 0.5630 - accuracy: 0.7414 - val_loss: 1.3443 - val_accuracy: 0.0000e+00\n",
            "Epoch 15/20\n",
            "43/43 [==============================] - 0s 3ms/step - loss: 0.5601 - accuracy: 0.7414 - val_loss: 1.3512 - val_accuracy: 0.0000e+00\n",
            "Epoch 16/20\n",
            "43/43 [==============================] - 0s 3ms/step - loss: 0.5572 - accuracy: 0.7414 - val_loss: 1.4126 - val_accuracy: 0.0000e+00\n",
            "Epoch 17/20\n",
            "43/43 [==============================] - 0s 3ms/step - loss: 0.5564 - accuracy: 0.7414 - val_loss: 1.3217 - val_accuracy: 0.0000e+00\n",
            "Epoch 18/20\n",
            "43/43 [==============================] - 0s 3ms/step - loss: 0.5506 - accuracy: 0.7414 - val_loss: 1.4996 - val_accuracy: 0.0000e+00\n",
            "Epoch 19/20\n",
            "43/43 [==============================] - 0s 4ms/step - loss: 0.5464 - accuracy: 0.7414 - val_loss: 1.2498 - val_accuracy: 0.0000e+00\n",
            "Epoch 20/20\n",
            "43/43 [==============================] - 0s 4ms/step - loss: 0.5380 - accuracy: 0.7414 - val_loss: 1.3858 - val_accuracy: 0.0000e+00\n"
          ]
        }
      ]
    },
    {
      "cell_type": "code",
      "source": [
        "# 모델 평가하기 --- (*6)\n",
        "score = model.evaluate(X_test, y_test, verbose=1)\n",
        "print('정답률=', score[1], 'loss=', score[0])\n"
      ],
      "metadata": {
        "colab": {
          "base_uri": "https://localhost:8080/"
        },
        "id": "NA2Qks55IlkF",
        "outputId": "119dec52-efb1-4dc6-f445-89876848aabe"
      },
      "execution_count": null,
      "outputs": [
        {
          "output_type": "stream",
          "name": "stdout",
          "text": [
            "15/15 [==============================] - 0s 2ms/step - loss: 0.2325 - accuracy: 0.9512\n",
            "정답률= 0.9511677026748657 loss= 0.2325087934732437\n"
          ]
        }
      ]
    },
    {
      "cell_type": "code",
      "source": [
        "from sklearn.metrics import classification_report\n",
        "import numpy as np\n",
        "pred = np.argmax( model.predict( X_test), axis=1 )\n",
        "y_test = np.argmax( y_test, axis=1 )\n",
        "print( classification_report( y_test, pred ) )"
      ],
      "metadata": {
        "colab": {
          "base_uri": "https://localhost:8080/"
        },
        "id": "Ybd17SRDIlmh",
        "outputId": "04fdd7fd-ed09-4e6a-f285-c40cf0b21dba"
      },
      "execution_count": null,
      "outputs": [
        {
          "output_type": "stream",
          "name": "stdout",
          "text": [
            "15/15 [==============================] - 0s 2ms/step\n",
            "              precision    recall  f1-score   support\n",
            "\n",
            "           0       0.95      1.00      0.97       448\n",
            "           1       0.00      0.00      0.00        23\n",
            "\n",
            "    accuracy                           0.95       471\n",
            "   macro avg       0.48      0.50      0.49       471\n",
            "weighted avg       0.90      0.95      0.93       471\n",
            "\n"
          ]
        },
        {
          "output_type": "stream",
          "name": "stderr",
          "text": [
            "/usr/local/lib/python3.10/dist-packages/sklearn/metrics/_classification.py:1344: UndefinedMetricWarning: Precision and F-score are ill-defined and being set to 0.0 in labels with no predicted samples. Use `zero_division` parameter to control this behavior.\n",
            "  _warn_prf(average, modifier, msg_start, len(result))\n",
            "/usr/local/lib/python3.10/dist-packages/sklearn/metrics/_classification.py:1344: UndefinedMetricWarning: Precision and F-score are ill-defined and being set to 0.0 in labels with no predicted samples. Use `zero_division` parameter to control this behavior.\n",
            "  _warn_prf(average, modifier, msg_start, len(result))\n",
            "/usr/local/lib/python3.10/dist-packages/sklearn/metrics/_classification.py:1344: UndefinedMetricWarning: Precision and F-score are ill-defined and being set to 0.0 in labels with no predicted samples. Use `zero_division` parameter to control this behavior.\n",
            "  _warn_prf(average, modifier, msg_start, len(result))\n"
          ]
        }
      ]
    }
  ]
}